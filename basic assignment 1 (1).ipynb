{
 "cells": [
  {
   "cell_type": "markdown",
   "metadata": {},
   "source": [
    "1. In the below elements which of them are values or an expression? eg:- values can be\n",
    "integer or string and expressions will be mathematical operators.\n",
    "answer:\n",
    "*  = expression\n",
    "\"hello\" = values\n",
    "-87.8   = values\n",
    "-       = expresasion\n",
    "/       = expression\n",
    "+       =expression\n",
    "6       =values"
   ]
  },
  {
   "cell_type": "markdown",
   "metadata": {},
   "source": [
    "2. What is the difference between string and variable?\n",
    "answer:\n",
    "string is one of the datatype which is the collection of the information generally enclosed between \" \" or ''\n",
    "variable is which stores the information for example we store the string in the variable."
   ]
  },
  {
   "cell_type": "markdown",
   "metadata": {},
   "source": [
    "3. Describe three different data types.\n",
    "answer:\n",
    "the three different datasets are\n",
    "Integers      eg: -3,-2,-1,0,1,2,3\n",
    "Floating-Point Numbers  eg: -3.0,-2.0,-1.0,0,1.0,2.0,3.0\n",
    "strings     eg:\"tharun\",\"34\",\"what is your name\""
   ]
  },
  {
   "cell_type": "markdown",
   "metadata": {},
   "source": [
    "4. What is an expression made up of? What do all expressions do?\n",
    "answer:\n",
    "expression is the combination of values and the operators. All expressions reduce to single value."
   ]
  },
  {
   "cell_type": "markdown",
   "metadata": {},
   "source": [
    "5. This assignment statements, like spam = 10. What is the difference between an\n",
    "expression and a statement?\n",
    "answer:\n",
    "expression is something which reduces to single value but the statement does not.\n"
   ]
  },
  {
   "cell_type": "markdown",
   "metadata": {},
   "source": [
    "6. After running the following code, what does the variable bacon contain?\n",
    "bacon = 22\n",
    "bacon + 1\n",
    "answer:\n",
    "in the first statement the integer 22 stores in the variable bacon. in the second statement the get output as 23 but the variable bacon contain only 22 because The bacon + 1 expression does not reassign the value in bacon.\n"
   ]
  },
  {
   "cell_type": "markdown",
   "metadata": {},
   "source": [
    "7. What should the values of the following two terms be?\n",
    "'spam' + 'spamspam'\n",
    "'spam'* 3\n",
    "answer:\n",
    "for both expression we get the answer as 'spamspamspam'"
   ]
  },
  {
   "cell_type": "markdown",
   "metadata": {},
   "source": [
    "8. Why is eggs a valid variable name while 100 is invalid?\n",
    "answer:\n",
    "because the variable can not begin withthe number so, 100 is the invalid variable name"
   ]
  },
  {
   "cell_type": "markdown",
   "metadata": {},
   "source": [
    "9. What three functions can be used to get the integer, floating-point number, or string\n",
    "version of a value?\n",
    "answer:\n",
    " int() for integer\n",
    " float() for  floating-point number\n",
    " str() for string"
   ]
  },
  {
   "cell_type": "markdown",
   "metadata": {},
   "source": [
    "10. Why does this expression cause an error? How can you fix it?\n",
    "'I have eaten' + 99 + 'burritos'\n",
    "answer:\n",
    "we get concatenation error.string  concatenate only to string with + operator. we can fix by making the integer 99 as string.\n",
    "('I have eaten' + str(99) + 'burritos')"
   ]
  }
 ],
 "metadata": {
  "kernelspec": {
   "display_name": "Python 3",
   "language": "python",
   "name": "python3"
  },
  "language_info": {
   "codemirror_mode": {
    "name": "ipython",
    "version": 3
   },
   "file_extension": ".py",
   "mimetype": "text/x-python",
   "name": "python",
   "nbconvert_exporter": "python",
   "pygments_lexer": "ipython3",
   "version": "3.8.5"
  }
 },
 "nbformat": 4,
 "nbformat_minor": 4
}
